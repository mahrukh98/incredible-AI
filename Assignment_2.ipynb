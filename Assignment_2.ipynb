{
 "cells": [
  {
   "cell_type": "markdown",
   "metadata": {},
   "source": [
    "<h3>Q no 1:  Write a python program to find number of occurrences of given number in a list with out using built-in methods</h3>\n",
    "<h4>**1 generate a list of some random num which is repeated again and again</h4>\n",
    "<h4>**2 take user input any number</h4>\n",
    "<h4>**3 find the number of occurrences of that num in your list</h4>\n",
    "<h4>**4 print some message to user with that result</h4>"
   ]
  },
  {
   "cell_type": "code",
   "execution_count": 2,
   "metadata": {},
   "outputs": [
    {
     "name": "stdout",
     "output_type": "stream",
     "text": [
      "Ask any number from 0 to 9?2\n",
      "2 occurs 3 times in the list.\n"
     ]
    }
   ],
   "source": [
    "numbers = [1,7,3,6,7,2,9,0,1,5,8,1,2,6,2]\n",
    "occurrence = 0\n",
    "user_input = int(input(\"Ask any number from 0 to 9?\"))\n",
    "\n",
    "for c in numbers:\n",
    "    if c == user_input:\n",
    "        occurrence += 1\n",
    "        \n",
    "    else:\n",
    "        continue\n",
    "print(\"{} occurs {} times in the list.\".format(user_input,occurrence))"
   ]
  },
  {
   "cell_type": "markdown",
   "metadata": {},
   "source": [
    "<h3>Q no 2:   [\"www.zframez.com\", \"www.wikipedia.org\", \"www.asp.net\", \"www.abcd.in\"]\n",
    "<br/><br/><br/><br/><br/>\n",
    "Write a python program to print website suffixes (com , org , net ,in) from this list\n",
    "</h3>"
   ]
  },
  {
   "cell_type": "code",
   "execution_count": 6,
   "metadata": {},
   "outputs": [
    {
     "name": "stdout",
     "output_type": "stream",
     "text": [
      "com\n",
      "org\n",
      "net\n",
      "in\n"
     ]
    }
   ],
   "source": [
    "websites = [\"www.zframez.com\", \"www.wikipedia.org\", \"www.asp.net\", \"www.abcd.in\"] \n",
    "for website in websites:\n",
    "    suffix = website.split('.')\n",
    "    print(suffix[-1])"
   ]
  },
  {
   "cell_type": "markdown",
   "metadata": {},
   "source": [
    "<h3> Q no 3 : Write a program which can compute the factorial of a given numbers.</h3>\n",
    "<br/>\n",
    "<br/>\n",
    "<h4>**1 first take user input any number</h4>\n",
    "<h4>**2 calculate factorial of that input and then print the result to user</h4>"
   ]
  },
  {
   "cell_type": "code",
   "execution_count": 7,
   "metadata": {},
   "outputs": [
    {
     "name": "stdout",
     "output_type": "stream",
     "text": [
      "Enter any number: 7\n"
     ]
    }
   ],
   "source": [
    "number = int(input(\"Enter any number: \"))\n",
    "factorial = 1"
   ]
  },
  {
   "cell_type": "code",
   "execution_count": 8,
   "metadata": {},
   "outputs": [],
   "source": [
    "if number == 0:\n",
    "    factorial = 1\n",
    "else:\n",
    "    for i in range (1, number + 1):\n",
    "        factorial = factorial * i"
   ]
  },
  {
   "cell_type": "code",
   "execution_count": 9,
   "metadata": {},
   "outputs": [
    {
     "name": "stdout",
     "output_type": "stream",
     "text": [
      "5040\n"
     ]
    }
   ],
   "source": [
    "print(factorial)"
   ]
  },
  {
   "cell_type": "markdown",
   "metadata": {},
   "source": [
    "<h3>Q 4 (a) :  If you could invite anyone, living or deceased, to dinner, who\n",
    "would you invite? Make a list that includes at least three people you’d like to\n",
    "invite to dinner. Then use your list to print a message to each person, inviting\n",
    "them to dinner.</h3>"
   ]
  },
  {
   "cell_type": "code",
   "execution_count": 26,
   "metadata": {},
   "outputs": [],
   "source": [
    "invitee = ['Atefeh', 'Huda', 'Bushra', 'Arfah']\n",
    "message = (\"you're cordially invited to attend an amzing dinner at the bank of Bosphorus on 11th of August at 9:00 PM.\")"
   ]
  },
  {
   "cell_type": "code",
   "execution_count": 27,
   "metadata": {},
   "outputs": [
    {
     "name": "stdout",
     "output_type": "stream",
     "text": [
      "Atefeh, you're cordially invited to attend an amzing dinner at the bank of Bosphorus on 11th of August at 9:00 PM.\n",
      "\n",
      "Huda, you're cordially invited to attend an amzing dinner at the bank of Bosphorus on 11th of August at 9:00 PM.\n",
      "\n",
      "Bushra, you're cordially invited to attend an amzing dinner at the bank of Bosphorus on 11th of August at 9:00 PM.\n",
      "\n",
      "Arfah, you're cordially invited to attend an amzing dinner at the bank of Bosphorus on 11th of August at 9:00 PM.\n",
      "\n"
     ]
    }
   ],
   "source": [
    "for i in range(len(invitee)):\n",
    "    print(invitee[i] + \",\" + \" \" + message + \"\\n\")"
   ]
  },
  {
   "cell_type": "markdown",
   "metadata": {},
   "source": [
    "<h3>Q 4 (b) : You just heard that one of your guests can’t make the\n",
    "dinner, so you need to send out a new set of invitations. You’ll have to think of\n",
    "someone else to invite.<br/></br><br/>\n",
    "•\t Start with your program from Q 4 (a). Add a print statement at the\n",
    "end of your program stating the name of the guest who can’t make it.<br/></br><br/>\n",
    "•\t Modify your list, replacing the name of the guest who can’t make it with\n",
    "the name of the new person you are inviting.<br/></br><br/>\n",
    "•\t Print a second set of invitation messages, one for each person who is still\n",
    "in your list.<br/></br><br/></h3>"
   ]
  },
  {
   "cell_type": "code",
   "execution_count": 28,
   "metadata": {},
   "outputs": [
    {
     "name": "stdout",
     "output_type": "stream",
     "text": [
      "\n",
      " Unfortunately, Arfah can't make to it.\n",
      "\n"
     ]
    }
   ],
   "source": [
    "print(\"\\n Unfortunately, Arfah can't make to it.\\n\")"
   ]
  },
  {
   "cell_type": "code",
   "execution_count": 18,
   "metadata": {},
   "outputs": [],
   "source": [
    "invitee[3] = 'Sana'"
   ]
  },
  {
   "cell_type": "code",
   "execution_count": 19,
   "metadata": {},
   "outputs": [
    {
     "name": "stdout",
     "output_type": "stream",
     "text": [
      "Atefeh, you're cordially invited to attend an amzing dinner at the bank of Bosphorus on 11th of August at 9:00 PM.\n",
      "\n",
      "Huda, you're cordially invited to attend an amzing dinner at the bank of Bosphorus on 11th of August at 9:00 PM.\n",
      "\n",
      "Bushra, you're cordially invited to attend an amzing dinner at the bank of Bosphorus on 11th of August at 9:00 PM.\n",
      "\n",
      "Sana, you're cordially invited to attend an amzing dinner at the bank of Bosphorus on 11th of August at 9:00 PM.\n",
      "\n"
     ]
    }
   ],
   "source": [
    "for i in range(len(invitee)):\n",
    "    print(invitee[i] + \",\" + \" \" + message + \"\\n\")"
   ]
  },
  {
   "cell_type": "markdown",
   "metadata": {},
   "source": [
    "<h3>Q 4 (c) : You just found a bigger dinner table, so now more space is\n",
    "available. Think of three more guests to invite to dinner.<br/></br><br/>\n",
    "•\t Start with your program from Q 4 (a) and (b) Add a print\n",
    "statement to the end of your program informing people that you found a\n",
    "bigger dinner table.<br/></br><br/>\n",
    "•\t Use insert() to add one new guest to the beginning of your list.<br/></br><br/>\n",
    "•\t Use insert() to add one new guest to the middle of your list.<br/></br><br/>\n",
    "•\t Use append() to add one new guest to the end of your list.<br/></br><br/>\n",
    "•\t Print a new set of invitation messages, one for each person in your list.<br/></br><br/></h3>"
   ]
  },
  {
   "cell_type": "code",
   "execution_count": 20,
   "metadata": {},
   "outputs": [
    {
     "name": "stdout",
     "output_type": "stream",
     "text": [
      "It feels great to announce that we have now been able to get a bigger table, meaning that more friends are on their way!\n",
      "\n"
     ]
    }
   ],
   "source": [
    "print(\"It feels great to announce that we have now been able to get a bigger table, meaning that more friends are on their way!\\n\")"
   ]
  },
  {
   "cell_type": "code",
   "execution_count": 21,
   "metadata": {},
   "outputs": [],
   "source": [
    "invitee.insert(0, 'Mariam')\n",
    "invitee.insert(1,'Ahed')\n",
    "invitee.append('Mahnoor')"
   ]
  },
  {
   "cell_type": "code",
   "execution_count": 22,
   "metadata": {},
   "outputs": [
    {
     "name": "stdout",
     "output_type": "stream",
     "text": [
      "Mariam, you're cordially invited to attend an amzing dinner at the bank of Bosphorus on 11th of August at 9:00 PM.\n",
      "\n",
      "Ahed, you're cordially invited to attend an amzing dinner at the bank of Bosphorus on 11th of August at 9:00 PM.\n",
      "\n",
      "Atefeh, you're cordially invited to attend an amzing dinner at the bank of Bosphorus on 11th of August at 9:00 PM.\n",
      "\n",
      "Huda, you're cordially invited to attend an amzing dinner at the bank of Bosphorus on 11th of August at 9:00 PM.\n",
      "\n",
      "Bushra, you're cordially invited to attend an amzing dinner at the bank of Bosphorus on 11th of August at 9:00 PM.\n",
      "\n",
      "Sana, you're cordially invited to attend an amzing dinner at the bank of Bosphorus on 11th of August at 9:00 PM.\n",
      "\n",
      "Mahnoor, you're cordially invited to attend an amzing dinner at the bank of Bosphorus on 11th of August at 9:00 PM.\n",
      "\n"
     ]
    }
   ],
   "source": [
    "for i in range(len(invitee)):\n",
    "    print(invitee[i] + \",\" + \" \" + message + \"\\n\")"
   ]
  },
  {
   "cell_type": "markdown",
   "metadata": {},
   "source": [
    "<h5> Q 5 : Here you have some data in variable below, your task is to make a list of specific word Surah then print the list and length of list</h5>\n"
   ]
  },
  {
   "cell_type": "code",
   "execution_count": 25,
   "metadata": {},
   "outputs": [
    {
     "name": "stdout",
     "output_type": "stream",
     "text": [
      "['Surah', 'Surah', 'Surah']\n",
      "Length of list: 3\n"
     ]
    }
   ],
   "source": [
    "data = \"Surah I Who believe in the Unseen, Surah Are steadfast in prayer, And spend Surah out of what We Have provided for them;\"\n",
    "search_word = 'Surah'\n",
    "desired_list = []\n",
    "divisions = data.split(' ')\n",
    "\n",
    "for x in divisions:    \n",
    "    if x == search_word:\n",
    "        desired_list.append(x)\n",
    "\n",
    "print(desired_list)\n",
    "print(\"Length of list: {}\" .format(len(desired_list)))\n"
   ]
  }
 ],
 "metadata": {
  "kernelspec": {
   "display_name": "Python 3",
   "language": "python",
   "name": "python3"
  },
  "language_info": {
   "codemirror_mode": {
    "name": "ipython",
    "version": 3
   },
   "file_extension": ".py",
   "mimetype": "text/x-python",
   "name": "python",
   "nbconvert_exporter": "python",
   "pygments_lexer": "ipython3",
   "version": "3.6.5"
  }
 },
 "nbformat": 4,
 "nbformat_minor": 2
}
