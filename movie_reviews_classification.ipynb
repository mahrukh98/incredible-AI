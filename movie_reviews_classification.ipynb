{
  "nbformat": 4,
  "nbformat_minor": 0,
  "metadata": {
    "colab": {
      "name": "movie-reviews-classification.ipynb",
      "version": "0.3.2",
      "provenance": [],
      "collapsed_sections": []
    },
    "kernelspec": {
      "display_name": "Python 3",
      "language": "python",
      "name": "python3"
    }
  },
  "cells": [
    {
      "metadata": {
        "id": "PeAmv68AblH-",
        "colab_type": "text"
      },
      "cell_type": "markdown",
      "source": [
        "\n",
        "\n",
        "### Following the amazing \"Deep Learning with Python\" by François Chollet for 'Binary Classification' problem!\n"
      ]
    },
    {
      "metadata": {
        "id": "1oUHJBrrZHsM",
        "colab_type": "code",
        "outputId": "59a1aa02-c7c4-4837-afef-274b8f47cc50",
        "colab": {
          "base_uri": "https://localhost:8080/",
          "height": 34
        }
      },
      "cell_type": "code",
      "source": [
        "import keras"
      ],
      "execution_count": 0,
      "outputs": [
        {
          "output_type": "stream",
          "text": [
            "Using TensorFlow backend.\n"
          ],
          "name": "stderr"
        }
      ]
    },
    {
      "metadata": {
        "id": "vRSwJF--ZHsU",
        "colab_type": "code",
        "outputId": "adb7e016-bd7c-4c20-b5ce-1306d72b738f",
        "colab": {
          "base_uri": "https://localhost:8080/",
          "height": 34
        }
      },
      "cell_type": "code",
      "source": [
        "keras.__version__"
      ],
      "execution_count": 0,
      "outputs": [
        {
          "output_type": "execute_result",
          "data": {
            "text/plain": [
              "'2.2.4'"
            ]
          },
          "metadata": {
            "tags": []
          },
          "execution_count": 2
        }
      ]
    },
    {
      "metadata": {
        "id": "XtriplRaZHsZ",
        "colab_type": "code",
        "colab": {}
      },
      "cell_type": "code",
      "source": [
        "# importing the IMDB dataset that comes packaged and pre-processed with Keras\n",
        "from keras.datasets import imdb"
      ],
      "execution_count": 0,
      "outputs": []
    },
    {
      "metadata": {
        "id": "JcTc-FI8ZHsd",
        "colab_type": "code",
        "outputId": "8b56672b-c648-476c-8315-436c90620f34",
        "colab": {
          "base_uri": "https://localhost:8080/",
          "height": 51
        }
      },
      "cell_type": "code",
      "source": [
        "# keeping only top 10,000 most frequently occurring words\n",
        "# contains 50,000 movies reviews out of which 25,000 are for training and remaining 25,000 for testing \n",
        "(train_data, train_labels), (test_data, test_labels) = imdb.load_data(num_words = 10000)"
      ],
      "execution_count": 0,
      "outputs": [
        {
          "output_type": "stream",
          "text": [
            "Downloading data from https://s3.amazonaws.com/text-datasets/imdb.npz\n",
            "17465344/17464789 [==============================] - 0s 0us/step\n"
          ],
          "name": "stdout"
        }
      ]
    },
    {
      "metadata": {
        "id": "ckeXWf8oZHsh",
        "colab_type": "code",
        "outputId": "6d5fb13f-c098-461e-bc47-dfff8d48cb43",
        "colab": {
          "base_uri": "https://localhost:8080/",
          "height": 2414
        }
      },
      "cell_type": "code",
      "source": [
        "# train_data and test_data contain list of reviews, where each review consists of list of encoding of sequence of words\n",
        "# visualized as follows\n",
        "train_data[2]"
      ],
      "execution_count": 0,
      "outputs": [
        {
          "output_type": "execute_result",
          "data": {
            "text/plain": [
              "[1,\n",
              " 14,\n",
              " 47,\n",
              " 8,\n",
              " 30,\n",
              " 31,\n",
              " 7,\n",
              " 4,\n",
              " 249,\n",
              " 108,\n",
              " 7,\n",
              " 4,\n",
              " 5974,\n",
              " 54,\n",
              " 61,\n",
              " 369,\n",
              " 13,\n",
              " 71,\n",
              " 149,\n",
              " 14,\n",
              " 22,\n",
              " 112,\n",
              " 4,\n",
              " 2401,\n",
              " 311,\n",
              " 12,\n",
              " 16,\n",
              " 3711,\n",
              " 33,\n",
              " 75,\n",
              " 43,\n",
              " 1829,\n",
              " 296,\n",
              " 4,\n",
              " 86,\n",
              " 320,\n",
              " 35,\n",
              " 534,\n",
              " 19,\n",
              " 263,\n",
              " 4821,\n",
              " 1301,\n",
              " 4,\n",
              " 1873,\n",
              " 33,\n",
              " 89,\n",
              " 78,\n",
              " 12,\n",
              " 66,\n",
              " 16,\n",
              " 4,\n",
              " 360,\n",
              " 7,\n",
              " 4,\n",
              " 58,\n",
              " 316,\n",
              " 334,\n",
              " 11,\n",
              " 4,\n",
              " 1716,\n",
              " 43,\n",
              " 645,\n",
              " 662,\n",
              " 8,\n",
              " 257,\n",
              " 85,\n",
              " 1200,\n",
              " 42,\n",
              " 1228,\n",
              " 2578,\n",
              " 83,\n",
              " 68,\n",
              " 3912,\n",
              " 15,\n",
              " 36,\n",
              " 165,\n",
              " 1539,\n",
              " 278,\n",
              " 36,\n",
              " 69,\n",
              " 2,\n",
              " 780,\n",
              " 8,\n",
              " 106,\n",
              " 14,\n",
              " 6905,\n",
              " 1338,\n",
              " 18,\n",
              " 6,\n",
              " 22,\n",
              " 12,\n",
              " 215,\n",
              " 28,\n",
              " 610,\n",
              " 40,\n",
              " 6,\n",
              " 87,\n",
              " 326,\n",
              " 23,\n",
              " 2300,\n",
              " 21,\n",
              " 23,\n",
              " 22,\n",
              " 12,\n",
              " 272,\n",
              " 40,\n",
              " 57,\n",
              " 31,\n",
              " 11,\n",
              " 4,\n",
              " 22,\n",
              " 47,\n",
              " 6,\n",
              " 2307,\n",
              " 51,\n",
              " 9,\n",
              " 170,\n",
              " 23,\n",
              " 595,\n",
              " 116,\n",
              " 595,\n",
              " 1352,\n",
              " 13,\n",
              " 191,\n",
              " 79,\n",
              " 638,\n",
              " 89,\n",
              " 2,\n",
              " 14,\n",
              " 9,\n",
              " 8,\n",
              " 106,\n",
              " 607,\n",
              " 624,\n",
              " 35,\n",
              " 534,\n",
              " 6,\n",
              " 227,\n",
              " 7,\n",
              " 129,\n",
              " 113]"
            ]
          },
          "metadata": {
            "tags": []
          },
          "execution_count": 5
        }
      ]
    },
    {
      "metadata": {
        "id": "7ymx61dLZHsl",
        "colab_type": "code",
        "outputId": "fc0ef199-5dd9-48ca-ba6b-8a327d3bc889",
        "colab": {
          "base_uri": "https://localhost:8080/",
          "height": 34
        }
      },
      "cell_type": "code",
      "source": [
        "# train_labels and test_labels consist of list of associated labels to the reviwes in train_data and test_data, each label\n",
        "# specifies either \"0\" for negative and \"1\" for positive review\n",
        "# visualized as follows\n",
        "train_labels[2]"
      ],
      "execution_count": 0,
      "outputs": [
        {
          "output_type": "execute_result",
          "data": {
            "text/plain": [
              "0"
            ]
          },
          "metadata": {
            "tags": []
          },
          "execution_count": 6
        }
      ]
    },
    {
      "metadata": {
        "id": "C9aXdGooZHsp",
        "colab_type": "code",
        "outputId": "3de126ef-2500-449c-a495-4ec964e7d9b5",
        "colab": {
          "base_uri": "https://localhost:8080/",
          "height": 51
        }
      },
      "cell_type": "code",
      "source": [
        "# Just for an insight! How can we decode the review back into words?\n",
        "# word_index is a dictionary mapping words to an integer index\n",
        "word_index = imdb.get_word_index()\n",
        "# We reverse it, mapping integer indices to words\n",
        "reverse_word_index = dict([(value, key) for (key, value) in word_index.items()])\n",
        "# We decode the review; note that our indices were offset by 3\n",
        "# because 0, 1 and 2 are reserved indices for \"padding\", \"start of sequence\", and \"unknown\".\n",
        "decoded_review = ' '.join([reverse_word_index.get(i - 3, '?') for i in train_data[2]])"
      ],
      "execution_count": 0,
      "outputs": [
        {
          "output_type": "stream",
          "text": [
            "Downloading data from https://s3.amazonaws.com/text-datasets/imdb_word_index.json\n",
            "1646592/1641221 [==============================] - 0s 0us/step\n"
          ],
          "name": "stdout"
        }
      ]
    },
    {
      "metadata": {
        "id": "tWaV1ce0ZHss",
        "colab_type": "code",
        "outputId": "37d644f6-8e79-49a3-f6c4-9b4a17235a91",
        "colab": {
          "base_uri": "https://localhost:8080/",
          "height": 54
        }
      },
      "cell_type": "code",
      "source": [
        "decoded_review"
      ],
      "execution_count": 0,
      "outputs": [
        {
          "output_type": "execute_result",
          "data": {
            "text/plain": [
              "\"? this has to be one of the worst films of the 1990s when my friends i were watching this film being the target audience it was aimed at we just sat watched the first half an hour with our jaws touching the floor at how bad it really was the rest of the time everyone else in the theatre just started talking to each other leaving or generally crying into their popcorn that they actually paid money they had ? working to watch this feeble excuse for a film it must have looked like a great idea on paper but on film it looks like no one in the film has a clue what is going on crap acting crap costumes i can't get across how ? this is to watch save yourself an hour a bit of your life\""
            ]
          },
          "metadata": {
            "tags": []
          },
          "execution_count": 8
        }
      ]
    },
    {
      "metadata": {
        "id": "0uxC7jP5ZHsz",
        "colab_type": "code",
        "colab": {}
      },
      "cell_type": "code",
      "source": [
        "# Turning our list of integers into tensors which is necessary for feeding the data into the network\n",
        "# Vectorization using one-hot-encoding\n",
        "import numpy as np\n",
        "\n",
        "def vectorize_sequences(sequences, dimension=10000):\n",
        "    # Create an all-zero matrix of shape (len(sequences), dimension)\n",
        "    results = np.zeros((len(sequences), dimension))\n",
        "    for i, sequence in enumerate(sequences):\n",
        "        results[i, sequence] = 1.  # set specific indices of results[i] to 1s\n",
        "    return results\n",
        "\n",
        "# Our vectorized training data\n",
        "x_train = vectorize_sequences(train_data)\n",
        "# Our vectorized test data\n",
        "x_test = vectorize_sequences(test_data)"
      ],
      "execution_count": 0,
      "outputs": []
    },
    {
      "metadata": {
        "id": "Q0Lit5cuZHtB",
        "colab_type": "code",
        "outputId": "35765b5f-558b-4b33-a828-de77de410b6a",
        "colab": {
          "base_uri": "https://localhost:8080/",
          "height": 34
        }
      },
      "cell_type": "code",
      "source": [
        "x_train[2]"
      ],
      "execution_count": 0,
      "outputs": [
        {
          "output_type": "execute_result",
          "data": {
            "text/plain": [
              "array([0., 1., 1., ..., 0., 0., 0.])"
            ]
          },
          "metadata": {
            "tags": []
          },
          "execution_count": 10
        }
      ]
    },
    {
      "metadata": {
        "id": "HW8mfO09ZHtG",
        "colab_type": "code",
        "colab": {}
      },
      "cell_type": "code",
      "source": [
        "# Vectorizing our labels\n",
        "y_train = np.asarray(train_labels).astype('float32')\n",
        "y_test = np.asarray(test_labels).astype('float32')"
      ],
      "execution_count": 0,
      "outputs": []
    },
    {
      "metadata": {
        "id": "Vi0tjqjEZHtK",
        "colab_type": "code",
        "outputId": "719bc061-1302-4800-b032-7f530c10d9ad",
        "colab": {
          "base_uri": "https://localhost:8080/",
          "height": 105
        }
      },
      "cell_type": "code",
      "source": [
        "# Now, for creating the Network's model\n",
        "\n",
        "from keras import models\n",
        "from keras import layers\n",
        "\n",
        "model = models.Sequential()\n",
        "model.add(layers.Dense(16, activation = 'relu', input_shape = (10000,)))\n",
        "model.add(layers.Dense(16, activation = 'relu'))\n",
        "model.add(layers.Dense(1, activation = 'sigmoid'))\n",
        "\n",
        "model"
      ],
      "execution_count": 0,
      "outputs": [
        {
          "output_type": "stream",
          "text": [
            "WARNING:tensorflow:From /usr/local/lib/python3.6/dist-packages/tensorflow/python/framework/op_def_library.py:263: colocate_with (from tensorflow.python.framework.ops) is deprecated and will be removed in a future version.\n",
            "Instructions for updating:\n",
            "Colocations handled automatically by placer.\n"
          ],
          "name": "stdout"
        },
        {
          "output_type": "execute_result",
          "data": {
            "text/plain": [
              "<keras.engine.sequential.Sequential at 0x7f5851317eb8>"
            ]
          },
          "metadata": {
            "tags": []
          },
          "execution_count": 12
        }
      ]
    },
    {
      "metadata": {
        "id": "bqNjBU-bZHtP",
        "colab_type": "code",
        "colab": {}
      },
      "cell_type": "code",
      "source": [
        "# Compiling the model, using binary_crossentropy loss function (probably the best choice as this is a binary classification\n",
        "# and resulting in a probabilistic distribution output) and rmsprop optimizer\n",
        "from keras import optimizers\n",
        "\n",
        "model.compile(optimizer = optimizers.RMSprop(lr = 0.001),\n",
        "              loss = 'binary_crossentropy',\n",
        "              metrics = ['accuracy'])"
      ],
      "execution_count": 0,
      "outputs": []
    },
    {
      "metadata": {
        "id": "lt559OwFZHtS",
        "colab_type": "code",
        "colab": {}
      },
      "cell_type": "code",
      "source": [
        "# Creating validation dataset consisting of 10,000 data samples from the training dataset, which helps us monitor the model's \n",
        "# accuracy on unseen data during training\n",
        "\n",
        "x_val = x_train[:10000]\n",
        "partial_x_train = x_train[10000:]\n",
        "\n",
        "y_val = y_train[:10000]\n",
        "partial_y_train = y_train[10000:]"
      ],
      "execution_count": 0,
      "outputs": []
    },
    {
      "metadata": {
        "id": "CKKnyhtVZHtV",
        "colab_type": "code",
        "outputId": "bb19f8c3-7960-420d-9dc7-a239b273fc0a",
        "colab": {
          "base_uri": "https://localhost:8080/",
          "height": 785
        }
      },
      "cell_type": "code",
      "source": [
        "# We will now train our model for 20 epochs (20 iterations over all samples in the x_train and y_train tensors),\n",
        "# in mini-batches of 512 samples. At this same time we will monitor loss and accuracy on the 10,000 samples that\n",
        "# we set apart. This is done by passing the validation data as the validation_data argument\n",
        "\n",
        "history = model.fit(partial_x_train,\n",
        "                    partial_y_train,\n",
        "                    epochs=20,\n",
        "                    batch_size=512,\n",
        "                    validation_data=(x_val, y_val))"
      ],
      "execution_count": 0,
      "outputs": [
        {
          "output_type": "stream",
          "text": [
            "WARNING:tensorflow:From /usr/local/lib/python3.6/dist-packages/tensorflow/python/ops/math_ops.py:3066: to_int32 (from tensorflow.python.ops.math_ops) is deprecated and will be removed in a future version.\n",
            "Instructions for updating:\n",
            "Use tf.cast instead.\n",
            "Train on 15000 samples, validate on 10000 samples\n",
            "Epoch 1/20\n",
            "15000/15000 [==============================] - 7s 446us/step - loss: 0.5087 - acc: 0.7813 - val_loss: 0.3796 - val_acc: 0.8694\n",
            "Epoch 2/20\n",
            "15000/15000 [==============================] - 2s 161us/step - loss: 0.3005 - acc: 0.9050 - val_loss: 0.3004 - val_acc: 0.8901\n",
            "Epoch 3/20\n",
            "15000/15000 [==============================] - 2s 160us/step - loss: 0.2180 - acc: 0.9283 - val_loss: 0.3087 - val_acc: 0.8716\n",
            "Epoch 4/20\n",
            "15000/15000 [==============================] - 2s 161us/step - loss: 0.1750 - acc: 0.9434 - val_loss: 0.2841 - val_acc: 0.8839\n",
            "Epoch 5/20\n",
            "15000/15000 [==============================] - 2s 160us/step - loss: 0.1428 - acc: 0.9542 - val_loss: 0.2848 - val_acc: 0.8865\n",
            "Epoch 6/20\n",
            "15000/15000 [==============================] - 2s 157us/step - loss: 0.1151 - acc: 0.9653 - val_loss: 0.3150 - val_acc: 0.8773\n",
            "Epoch 7/20\n",
            "15000/15000 [==============================] - 2s 156us/step - loss: 0.0980 - acc: 0.9704 - val_loss: 0.3127 - val_acc: 0.8847\n",
            "Epoch 8/20\n",
            "15000/15000 [==============================] - 2s 156us/step - loss: 0.0808 - acc: 0.9763 - val_loss: 0.3853 - val_acc: 0.8652\n",
            "Epoch 9/20\n",
            "15000/15000 [==============================] - 2s 156us/step - loss: 0.0662 - acc: 0.9821 - val_loss: 0.3630 - val_acc: 0.8782\n",
            "Epoch 10/20\n",
            "15000/15000 [==============================] - 2s 157us/step - loss: 0.0556 - acc: 0.9854 - val_loss: 0.3839 - val_acc: 0.8790\n",
            "Epoch 11/20\n",
            "15000/15000 [==============================] - 2s 155us/step - loss: 0.0454 - acc: 0.9887 - val_loss: 0.4162 - val_acc: 0.8767\n",
            "Epoch 12/20\n",
            "15000/15000 [==============================] - 2s 155us/step - loss: 0.0385 - acc: 0.9914 - val_loss: 0.4504 - val_acc: 0.8697\n",
            "Epoch 13/20\n",
            "15000/15000 [==============================] - 2s 156us/step - loss: 0.0299 - acc: 0.9928 - val_loss: 0.4698 - val_acc: 0.8734\n",
            "Epoch 14/20\n",
            "15000/15000 [==============================] - 2s 156us/step - loss: 0.0246 - acc: 0.9949 - val_loss: 0.5030 - val_acc: 0.8720\n",
            "Epoch 15/20\n",
            "15000/15000 [==============================] - 2s 158us/step - loss: 0.0174 - acc: 0.9981 - val_loss: 0.5504 - val_acc: 0.8675\n",
            "Epoch 16/20\n",
            "15000/15000 [==============================] - 2s 157us/step - loss: 0.0166 - acc: 0.9970 - val_loss: 0.5742 - val_acc: 0.8697\n",
            "Epoch 17/20\n",
            "15000/15000 [==============================] - 2s 157us/step - loss: 0.0094 - acc: 0.9994 - val_loss: 0.6352 - val_acc: 0.8622\n",
            "Epoch 18/20\n",
            "15000/15000 [==============================] - 2s 156us/step - loss: 0.0106 - acc: 0.9983 - val_loss: 0.6450 - val_acc: 0.8665\n",
            "Epoch 19/20\n",
            "15000/15000 [==============================] - 2s 157us/step - loss: 0.0083 - acc: 0.9990 - val_loss: 0.6762 - val_acc: 0.8679\n",
            "Epoch 20/20\n",
            "15000/15000 [==============================] - 2s 157us/step - loss: 0.0071 - acc: 0.9989 - val_loss: 0.7089 - val_acc: 0.8666\n"
          ],
          "name": "stdout"
        }
      ]
    },
    {
      "metadata": {
        "id": "Gkxq2EyhZHtY",
        "colab_type": "code",
        "outputId": "dee21aa0-fa88-4312-d1ed-1015750ba591",
        "colab": {
          "base_uri": "https://localhost:8080/",
          "height": 376
        }
      },
      "cell_type": "code",
      "source": [
        "# Plotting graph for training loss versus validation loss\n",
        "\n",
        "import matplotlib.pyplot as plt\n",
        "\n",
        "acc = history.history['acc']\n",
        "val_acc = history.history['val_acc']\n",
        "loss = history.history['loss']\n",
        "val_loss = history.history['val_loss']\n",
        "\n",
        "epochs = range(1, len(acc) + 1)\n",
        "\n",
        "# \"bo\" is for \"blue dot\"\n",
        "plt.plot(epochs, loss, 'bo', label='Training loss')\n",
        "# b is for \"solid blue line\"\n",
        "plt.plot(epochs, val_loss, 'b', label='Validation loss')\n",
        "plt.title('Training and validation loss')\n",
        "plt.xlabel('Epochs')\n",
        "plt.ylabel('Loss')\n",
        "plt.legend()\n",
        "\n",
        "plt.show()"
      ],
      "execution_count": 0,
      "outputs": [
        {
          "output_type": "display_data",
          "data": {
            "image/png": "[encoded data removed]",
            "text/plain": [
              "<Figure size 576x396 with 1 Axes>"
            ]
          },
          "metadata": {
            "tags": []
          }
        }
      ]
    },
    {
      "metadata": {
        "id": "t9BT2nmgn1I1",
        "colab_type": "code",
        "outputId": "90ee5ecb-9d0b-483c-91a6-b0c517c19b1a",
        "colab": {
          "base_uri": "https://localhost:8080/",
          "height": 34
        }
      },
      "cell_type": "code",
      "source": [
        "# the call to model.fit() returns a History object. This object has a member history, which is a dictionary containing data about \n",
        "# everything that happened during training\n",
        "history_dict = history.history\n",
        "history_dict.keys()"
      ],
      "execution_count": 0,
      "outputs": [
        {
          "output_type": "execute_result",
          "data": {
            "text/plain": [
              "dict_keys(['val_loss', 'val_acc', 'loss', 'acc'])"
            ]
          },
          "metadata": {
            "tags": []
          },
          "execution_count": 18
        }
      ]
    },
    {
      "metadata": {
        "id": "M-U25Aj_ZHtb",
        "colab_type": "code",
        "outputId": "22a355ea-24f2-4d12-e54f-cafc24b88e0b",
        "colab": {
          "base_uri": "https://localhost:8080/",
          "height": 376
        }
      },
      "cell_type": "code",
      "source": [
        "# Plotting graph for training accuracy versus validation accuracy\n",
        "\n",
        "plt.clf()   # clear figure\n",
        "acc_values = history_dict['acc']\n",
        "val_acc_values = history_dict['val_acc']\n",
        "\n",
        "plt.plot(epochs, acc, 'bo', label='Training acc')\n",
        "plt.plot(epochs, val_acc, 'b', label='Validation acc')\n",
        "plt.title('Training and validation accuracy')\n",
        "plt.xlabel('Epochs')\n",
        "plt.ylabel('Loss')\n",
        "plt.legend()\n",
        "\n",
        "plt.show()"
      ],
      "execution_count": 0,
      "outputs": [
        {
          "output_type": "display_data",
          "data": {
            "image/png": "[encoded data removed]",
            "text/plain": [
              "<Figure size 576x396 with 1 Axes>"
            ]
          },
          "metadata": {
            "tags": []
          }
        }
      ]
    },
    {
      "metadata": {
        "id": "y0aStljNoVzC",
        "colab_type": "text"
      },
      "cell_type": "markdown",
      "source": [
        "### According to the plots, training loss decreases with every epoch and training accuracy increases but the problem is that validation loss increases after approx. 5 epochs. This is called 'Overfitting' where the model is performing well on training data but not on unseen data i.e. the validation data."
      ]
    },
    {
      "metadata": {
        "id": "5GTJr4W2qtjT",
        "colab_type": "code",
        "outputId": "68dd1ba8-7f08-4d6e-e062-407af97b90ac",
        "colab": {
          "base_uri": "https://localhost:8080/",
          "height": 204
        }
      },
      "cell_type": "code",
      "source": [
        "# Training a new model for our Network from scratch for 5 epochs and afterwards evaluating it on our test data\n",
        "\n",
        "model = models.Sequential()\n",
        "model.add(layers.Dense(16, activation='relu', input_shape=(10000,)))\n",
        "model.add(layers.Dense(16, activation='relu'))\n",
        "model.add(layers.Dense(1, activation='sigmoid'))\n",
        "\n",
        "model.compile(optimizer='rmsprop',\n",
        "              loss='binary_crossentropy',\n",
        "              metrics=['accuracy'])\n",
        "\n",
        "model.fit(x_train, y_train, epochs=5, batch_size=512)\n",
        "results = model.evaluate(x_test, y_test)"
      ],
      "execution_count": 0,
      "outputs": [
        {
          "output_type": "stream",
          "text": [
            "Epoch 1/5\n",
            "25000/25000 [==============================] - 3s 117us/step - loss: 0.4734 - acc: 0.8071\n",
            "Epoch 2/5\n",
            "25000/25000 [==============================] - 3s 103us/step - loss: 0.2693 - acc: 0.9096\n",
            "Epoch 3/5\n",
            "25000/25000 [==============================] - 3s 104us/step - loss: 0.2063 - acc: 0.9279\n",
            "Epoch 4/5\n",
            "25000/25000 [==============================] - 3s 104us/step - loss: 0.1726 - acc: 0.9391\n",
            "Epoch 5/5\n",
            "25000/25000 [==============================] - 3s 104us/step - loss: 0.1466 - acc: 0.9476\n",
            "25000/25000 [==============================] - 3s 112us/step\n"
          ],
          "name": "stdout"
        }
      ]
    },
    {
      "metadata": {
        "id": "oxy7DERHswXJ",
        "colab_type": "code",
        "outputId": "d9b4a0c1-b14a-4d5f-8410-307473423a59",
        "colab": {
          "base_uri": "https://localhost:8080/",
          "height": 34
        }
      },
      "cell_type": "code",
      "source": [
        "results"
      ],
      "execution_count": 0,
      "outputs": [
        {
          "output_type": "execute_result",
          "data": {
            "text/plain": [
              "[0.3253892980861664, 0.8734]"
            ]
          },
          "metadata": {
            "tags": []
          },
          "execution_count": 23
        }
      ]
    },
    {
      "metadata": {
        "id": "OO4VDqBSpsGZ",
        "colab_type": "text"
      },
      "cell_type": "markdown",
      "source": [
        "### The results show we've achieved 87.34 % accuracy! Less but as it's just a starting point, so we can definitely achieve better results with tuning hyper-parameters, a little!"
      ]
    },
    {
      "metadata": {
        "id": "YOfV5fOQtEqH",
        "colab_type": "code",
        "outputId": "eb6e3395-dd68-4250-c7d6-8e1cdadfae0e",
        "colab": {
          "base_uri": "https://localhost:8080/",
          "height": 136
        }
      },
      "cell_type": "code",
      "source": [
        "# Following predictions show that our model performs pretty well on some data samples like with probabilities of 0.99 and 0.75 but also un-acceptable performance with \n",
        "# probabilities such as 0.04 and 0.10\n",
        "\n",
        "model.predict(x_test)"
      ],
      "execution_count": 0,
      "outputs": [
        {
          "output_type": "execute_result",
          "data": {
            "text/plain": [
              "array([[0.14027905],\n",
              "       [0.99997723],\n",
              "       [0.75893307],\n",
              "       ...,\n",
              "       [0.1090464 ],\n",
              "       [0.0484069 ],\n",
              "       [0.49122518]], dtype=float32)"
            ]
          },
          "metadata": {
            "tags": []
          },
          "execution_count": 24
        }
      ]
    }
  ]
}